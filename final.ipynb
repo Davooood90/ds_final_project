{
 "cells": [
  {
   "cell_type": "markdown",
   "id": "3f744852-5ac6-4588-8de9-e42df11490cd",
   "metadata": {},
   "source": [
    "# Data Science Final Project Report\n",
    "**Names**: David Liu,  JunHyun Kim, Layni Janzen, Sydney Lee\n",
    "\n",
    "**Group**: 10\n",
    "\n",
    "---"
   ]
  },
  {
   "cell_type": "code",
   "execution_count": 9,
   "id": "44f3deda-ad8f-4683-b0e9-105635040850",
   "metadata": {},
   "outputs": [],
   "source": [
    "### Run this cell before continuing.\n",
    "import pandas as pd\n",
    "import altair as alt"
   ]
  },
  {
   "cell_type": "markdown",
   "id": "0968a569-76cd-4579-9e29-99bb849c0014",
   "metadata": {},
   "source": [
    "---\n",
    "## **Introduction**"
   ]
  },
  {
   "cell_type": "markdown",
   "id": "958fa32a-0660-4c1b-add2-b3c93d6a0bab",
   "metadata": {},
   "source": [
    "A research group from UBC computer science is conducting research on how individuals play video games. Through their Minecraft webserver they have cultivated two datasets with information about players and their session history. Hosting a web server requires resource management, and the research group wants to determine how to best handle the resource allocation. "
   ]
  },
  {
   "cell_type": "markdown",
   "id": "6ea2db9f-63a2-4bba-8266-82e0b6f2fc1d",
   "metadata": {},
   "source": [
    "In this project, we will use their two datasets to answer the question of: \"How can we predict and optimize server resource allocation based on the number of concurrent players in each session?\""
   ]
  },
  {
   "cell_type": "markdown",
   "id": "5464db4e-aa1c-47ba-9522-76a5dc9c72c6",
   "metadata": {},
   "source": [
    "As a reminder these datasets are:\n",
    "\n",
    "1. **`players.csv`** – Contains information about the players, including their experience level, subscription status, and hours played.\n",
    "2. **`sessions.csv`** – Contains session details, such as the start and end times of each player's session.\n",
    "\n",
    "These datasets were used to answer the question: **\"How can we predict and optimize server resource allocation based on the number of concurrent players in each session?\"**\n",
    "\n",
    "### **1. `players.csv` Dataset**\n",
    "\n",
    "The `players.csv` dataset provides detailed information about the players, which includes their **experience level**, **subscription status**, **gameplay hours**, and basic demographic information.\n",
    "\n",
    "#### Main columns in `players.csv`:\n",
    "- **`experience`**: The experience level of the player (e.g., \"Pro\", \"Veteran\", \"Regular\", \"Amateur\").\n",
    "- **`subscribe`**: A boolean value indicating whether the player has a subscription (`True` or `False`).\n",
    "- **`hashedEmail`**: A unique identifier for the player, stored as a hashed email address.\n",
    "- **`played_hours`**: The total number of hours the player has spent playing the game.\n",
    "- **`name`**: The player's name.\n",
    "- **`gender`**: The player's gender.\n",
    "- **`age`**: The player's age.\n",
    "- **`individualId`**: An identifier for the player, possibly an internal ID for tracking purposes.\n",
    "- **`organizationName`**: The name of the player's organization (if applicable).\n",
    "\n",
    "#### Key Information from `players.csv`:\n",
    "- **Number of Rows**: 196 players.\n",
    "- **Number of Columns**: 9 attributes per player.\n",
    "- **Data Types**: The dataset contains both categorical (e.g., `experience`, `gender`) and numerical (e.g., `played_hours`, `age`) data.\n",
    "\n",
    "This dataset is important for understanding **player behavior** and how factors like **experience** and **age** might influence the number of connections (active players) at different times of the day.\n",
    "\n",
    "### **2. `sessions.csv` Dataset**\n",
    "\n",
    "The `sessions.csv` dataset contains information about the sessions in which players were actively playing the game. It records **session start and end times**, and is crucial for determining how long players are active and when their sessions occur.\n",
    "\n",
    "#### Main columns in `sessions.csv`:\n",
    "- **`hashedEmail`**: The player's unique identifier (same as in `players.csv`).\n",
    "- **`start_time`**: The start time of the player's session, recorded as a string in the format `DD/MM/YYYY HH:MM`.\n",
    "- **`end_time`**: The end time of the player's session, also recorded as a string in the same format as `start_time`.\n",
    "- **`original_start_time`**: A timestamp in Unix format, representing the session's start time.\n",
    "- **`original_end_time`**: A timestamp in Unix format, representing the session's end time.\n",
    "\n",
    "#### Key Information from `sessions.csv`:\n",
    "- **Number of Rows**: 1535 session entries.\n",
    "- **Number of Columns**: 5 attributes per session.\n",
    "- **Data Types**: The dataset includes both categorical data (e.g., `hashedEmail`) and datetime data (e.g., `start_time`, `end_time`).\n",
    "\n",
    "This dataset is critical for determining **when players are active**, and analyzing **peak hours** or **days of the week** for player activity. The session duration (calculated from `start_time` and `end_time`) will also be important for identifying **intense activity periods** and **server load**.\n",
    "\n",
    "---\n"
   ]
  },
  {
   "cell_type": "markdown",
   "id": "78fd49e2-ba18-4e61-87fb-989d713cdbd7",
   "metadata": {},
   "source": [
    "## **Methods & Results**"
   ]
  },
  {
   "cell_type": "markdown",
   "id": "1d940f37-23b0-4bf4-8ecf-a347d93104b7",
   "metadata": {},
   "source": [
    "### **Data Cleaning and Wrangling**\n",
    "\n",
    "The datasets were cleaned and preprocessed as follows:\n",
    "\n",
    "- **Datetime Conversion**: The `start_time` and `end_time` columns in the `sessions.csv` dataset were converted to proper `datetime` format to allow time-based analysis.\n",
    "- **Session Duration**: We calculated the **session duration** by subtracting the `start_time` from the `end_time` to get the total duration of each session in minutes.\n",
    "- **Handling Missing Data**: Rows with missing `end_time` values were dropped, as the session duration could not be calculated without this information.\n",
    "- **Feature Extraction**: We extracted the **hour** and **day of the week** from the `start_time` column to enable analysis of player activity patterns by time.\n",
    "\n",
    "We then aggregated the data by **hour**, **day of the week**, and both **hour and day of the week** to identify trends in player activity, which is essential for understanding when to allocate server resources more efficiently.\n"
   ]
  },
  {
   "cell_type": "code",
   "execution_count": 16,
   "id": "c700fdba-1c2c-4c65-88f9-42e1f16d6141",
   "metadata": {},
   "outputs": [
    {
     "name": "stdout",
     "output_type": "stream",
     "text": [
      "Table 1: First few rows of players.csv:\n"
     ]
    },
    {
     "data": {
      "text/html": [
       "<div>\n",
       "<style scoped>\n",
       "    .dataframe tbody tr th:only-of-type {\n",
       "        vertical-align: middle;\n",
       "    }\n",
       "\n",
       "    .dataframe tbody tr th {\n",
       "        vertical-align: top;\n",
       "    }\n",
       "\n",
       "    .dataframe thead th {\n",
       "        text-align: right;\n",
       "    }\n",
       "</style>\n",
       "<table border=\"1\" class=\"dataframe\">\n",
       "  <thead>\n",
       "    <tr style=\"text-align: right;\">\n",
       "      <th></th>\n",
       "      <th>experience</th>\n",
       "      <th>subscribe</th>\n",
       "      <th>hashedEmail</th>\n",
       "      <th>played_hours</th>\n",
       "      <th>name</th>\n",
       "      <th>gender</th>\n",
       "      <th>age</th>\n",
       "      <th>individualId</th>\n",
       "      <th>organizationName</th>\n",
       "    </tr>\n",
       "  </thead>\n",
       "  <tbody>\n",
       "    <tr>\n",
       "      <th>0</th>\n",
       "      <td>Pro</td>\n",
       "      <td>True</td>\n",
       "      <td>f6daba428a5e19a3d47574858c13550499be23603422e6...</td>\n",
       "      <td>30.3</td>\n",
       "      <td>Morgan</td>\n",
       "      <td>Male</td>\n",
       "      <td>9</td>\n",
       "      <td>NaN</td>\n",
       "      <td>NaN</td>\n",
       "    </tr>\n",
       "    <tr>\n",
       "      <th>1</th>\n",
       "      <td>Veteran</td>\n",
       "      <td>True</td>\n",
       "      <td>f3c813577c458ba0dfef80996f8f32c93b6e8af1fa9397...</td>\n",
       "      <td>3.8</td>\n",
       "      <td>Christian</td>\n",
       "      <td>Male</td>\n",
       "      <td>17</td>\n",
       "      <td>NaN</td>\n",
       "      <td>NaN</td>\n",
       "    </tr>\n",
       "    <tr>\n",
       "      <th>2</th>\n",
       "      <td>Veteran</td>\n",
       "      <td>False</td>\n",
       "      <td>b674dd7ee0d24096d1c019615ce4d12b20fcbff12d79d3...</td>\n",
       "      <td>0.0</td>\n",
       "      <td>Blake</td>\n",
       "      <td>Male</td>\n",
       "      <td>17</td>\n",
       "      <td>NaN</td>\n",
       "      <td>NaN</td>\n",
       "    </tr>\n",
       "    <tr>\n",
       "      <th>3</th>\n",
       "      <td>Amateur</td>\n",
       "      <td>True</td>\n",
       "      <td>23fe711e0e3b77f1da7aa221ab1192afe21648d47d2b4f...</td>\n",
       "      <td>0.7</td>\n",
       "      <td>Flora</td>\n",
       "      <td>Female</td>\n",
       "      <td>21</td>\n",
       "      <td>NaN</td>\n",
       "      <td>NaN</td>\n",
       "    </tr>\n",
       "    <tr>\n",
       "      <th>4</th>\n",
       "      <td>Regular</td>\n",
       "      <td>True</td>\n",
       "      <td>7dc01f10bf20671ecfccdac23812b1b415acd42c2147cb...</td>\n",
       "      <td>0.1</td>\n",
       "      <td>Kylie</td>\n",
       "      <td>Male</td>\n",
       "      <td>21</td>\n",
       "      <td>NaN</td>\n",
       "      <td>NaN</td>\n",
       "    </tr>\n",
       "  </tbody>\n",
       "</table>\n",
       "</div>"
      ],
      "text/plain": [
       "  experience  subscribe                                        hashedEmail  \\\n",
       "0        Pro       True  f6daba428a5e19a3d47574858c13550499be23603422e6...   \n",
       "1    Veteran       True  f3c813577c458ba0dfef80996f8f32c93b6e8af1fa9397...   \n",
       "2    Veteran      False  b674dd7ee0d24096d1c019615ce4d12b20fcbff12d79d3...   \n",
       "3    Amateur       True  23fe711e0e3b77f1da7aa221ab1192afe21648d47d2b4f...   \n",
       "4    Regular       True  7dc01f10bf20671ecfccdac23812b1b415acd42c2147cb...   \n",
       "\n",
       "   played_hours       name  gender  age  individualId  organizationName  \n",
       "0          30.3     Morgan    Male    9           NaN               NaN  \n",
       "1           3.8  Christian    Male   17           NaN               NaN  \n",
       "2           0.0      Blake    Male   17           NaN               NaN  \n",
       "3           0.7      Flora  Female   21           NaN               NaN  \n",
       "4           0.1      Kylie    Male   21           NaN               NaN  "
      ]
     },
     "metadata": {},
     "output_type": "display_data"
    }
   ],
   "source": [
    "# Load the players dataset\n",
    "players_df = pd.read_csv('https://drive.google.com/uc?id=1Mw9vW0hjTJwRWx0bDXiSpYsO3gKogaPz')\n",
    "\n",
    "# Display the first few rows of the dataset\n",
    "print(\"Table 1: First few rows of players.csv:\")\n",
    "display(players_df.head())"
   ]
  },
  {
   "cell_type": "code",
   "execution_count": 17,
   "id": "ff7cb6a6-a2c3-40ab-b80d-7676d5016d45",
   "metadata": {},
   "outputs": [
    {
     "name": "stdout",
     "output_type": "stream",
     "text": [
      "Table 2: First few rows of sessions.csv:\n"
     ]
    },
    {
     "data": {
      "text/html": [
       "<div>\n",
       "<style scoped>\n",
       "    .dataframe tbody tr th:only-of-type {\n",
       "        vertical-align: middle;\n",
       "    }\n",
       "\n",
       "    .dataframe tbody tr th {\n",
       "        vertical-align: top;\n",
       "    }\n",
       "\n",
       "    .dataframe thead th {\n",
       "        text-align: right;\n",
       "    }\n",
       "</style>\n",
       "<table border=\"1\" class=\"dataframe\">\n",
       "  <thead>\n",
       "    <tr style=\"text-align: right;\">\n",
       "      <th></th>\n",
       "      <th>hashedEmail</th>\n",
       "      <th>start_time</th>\n",
       "      <th>end_time</th>\n",
       "      <th>original_start_time</th>\n",
       "      <th>original_end_time</th>\n",
       "    </tr>\n",
       "  </thead>\n",
       "  <tbody>\n",
       "    <tr>\n",
       "      <th>0</th>\n",
       "      <td>bfce39c89d6549f2bb94d8064d3ce69dc3d7e72b38f431...</td>\n",
       "      <td>30/06/2024 18:12</td>\n",
       "      <td>30/06/2024 18:24</td>\n",
       "      <td>1.719770e+12</td>\n",
       "      <td>1.719770e+12</td>\n",
       "    </tr>\n",
       "    <tr>\n",
       "      <th>1</th>\n",
       "      <td>36d9cbb4c6bc0c1a6911436d2da0d09ec625e43e6552f5...</td>\n",
       "      <td>17/06/2024 23:33</td>\n",
       "      <td>17/06/2024 23:46</td>\n",
       "      <td>1.718670e+12</td>\n",
       "      <td>1.718670e+12</td>\n",
       "    </tr>\n",
       "    <tr>\n",
       "      <th>2</th>\n",
       "      <td>f8f5477f5a2e53616ae37421b1c660b971192bd8ff77e3...</td>\n",
       "      <td>25/07/2024 17:34</td>\n",
       "      <td>25/07/2024 17:57</td>\n",
       "      <td>1.721930e+12</td>\n",
       "      <td>1.721930e+12</td>\n",
       "    </tr>\n",
       "    <tr>\n",
       "      <th>3</th>\n",
       "      <td>bfce39c89d6549f2bb94d8064d3ce69dc3d7e72b38f431...</td>\n",
       "      <td>25/07/2024 03:22</td>\n",
       "      <td>25/07/2024 03:58</td>\n",
       "      <td>1.721880e+12</td>\n",
       "      <td>1.721880e+12</td>\n",
       "    </tr>\n",
       "    <tr>\n",
       "      <th>4</th>\n",
       "      <td>36d9cbb4c6bc0c1a6911436d2da0d09ec625e43e6552f5...</td>\n",
       "      <td>25/05/2024 16:01</td>\n",
       "      <td>25/05/2024 16:12</td>\n",
       "      <td>1.716650e+12</td>\n",
       "      <td>1.716650e+12</td>\n",
       "    </tr>\n",
       "  </tbody>\n",
       "</table>\n",
       "</div>"
      ],
      "text/plain": [
       "                                         hashedEmail        start_time  \\\n",
       "0  bfce39c89d6549f2bb94d8064d3ce69dc3d7e72b38f431...  30/06/2024 18:12   \n",
       "1  36d9cbb4c6bc0c1a6911436d2da0d09ec625e43e6552f5...  17/06/2024 23:33   \n",
       "2  f8f5477f5a2e53616ae37421b1c660b971192bd8ff77e3...  25/07/2024 17:34   \n",
       "3  bfce39c89d6549f2bb94d8064d3ce69dc3d7e72b38f431...  25/07/2024 03:22   \n",
       "4  36d9cbb4c6bc0c1a6911436d2da0d09ec625e43e6552f5...  25/05/2024 16:01   \n",
       "\n",
       "           end_time  original_start_time  original_end_time  \n",
       "0  30/06/2024 18:24         1.719770e+12       1.719770e+12  \n",
       "1  17/06/2024 23:46         1.718670e+12       1.718670e+12  \n",
       "2  25/07/2024 17:57         1.721930e+12       1.721930e+12  \n",
       "3  25/07/2024 03:58         1.721880e+12       1.721880e+12  \n",
       "4  25/05/2024 16:12         1.716650e+12       1.716650e+12  "
      ]
     },
     "metadata": {},
     "output_type": "display_data"
    }
   ],
   "source": [
    "# Load the sessions dataset\n",
    "sessions_df = pd.read_csv('https://drive.google.com/uc?id=14O91N5OlVkvdGxXNJUj5jIsV5RexhzbB')\n",
    "\n",
    "# Display the first few rows of the dataset\n",
    "print(\"Table 2: First few rows of sessions.csv:\")\n",
    "display(sessions_df.head())"
   ]
  },
  {
   "cell_type": "markdown",
   "id": "c1f5ed15-651c-4ef4-a75d-dc5055d3e2eb",
   "metadata": {},
   "source": [
    "## Discussion"
   ]
  },
  {
   "cell_type": "markdown",
   "id": "24e6ab01-8a33-419c-a6a8-61f2f831dba1",
   "metadata": {},
   "source": [
    "## References"
   ]
  },
  {
   "cell_type": "code",
   "execution_count": null,
   "id": "ee296e98-9adf-4b0a-a54b-7e5cf8e36b3e",
   "metadata": {},
   "outputs": [],
   "source": []
  }
 ],
 "metadata": {
  "kernelspec": {
   "display_name": "Python 3 (ipykernel)",
   "language": "python",
   "name": "python3"
  },
  "language_info": {
   "codemirror_mode": {
    "name": "ipython",
    "version": 3
   },
   "file_extension": ".py",
   "mimetype": "text/x-python",
   "name": "python",
   "nbconvert_exporter": "python",
   "pygments_lexer": "ipython3",
   "version": "3.11.9"
  }
 },
 "nbformat": 4,
 "nbformat_minor": 5
}
